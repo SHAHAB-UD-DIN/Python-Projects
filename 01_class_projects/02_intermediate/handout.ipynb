{
  "nbformat": 4,
  "nbformat_minor": 0,
  "metadata": {
    "colab": {
      "provenance": [],
      "authorship_tag": "ABX9TyOoi6NKlLI2VWUEyZ5dqMBP",
      "include_colab_link": true
    },
    "kernelspec": {
      "name": "python3",
      "display_name": "Python 3"
    },
    "language_info": {
      "name": "python"
    }
  },
  "cells": [
    {
      "cell_type": "markdown",
      "metadata": {
        "id": "view-in-github",
        "colab_type": "text"
      },
      "source": [
        "<a href=\"https://colab.research.google.com/github/SHAHAB-UD-DIN/Python-Projects/blob/main/01_class_projects/02_intermediate/handout.ipynb\" target=\"_parent\"><img src=\"https://colab.research.google.com/assets/colab-badge.svg\" alt=\"Open In Colab\"/></a>"
      ]
    },
    {
      "cell_type": "markdown",
      "source": [
        "# Problem: Planetary Weight Calculator\n",
        "Milestone #1: Mars Weight\n",
        "A few years ago, NASA made history with the first controlled flight on another planet. Its latest Mars Rover, Perseverance, has onboard a 50cm high helicopter called Ingenuity. Ingenuity made its third flight, during which it flew faster and further than it had on any of its test flights on Earth. Interestingly, Ingenuity uses Python for some of its flight modeling software!\n",
        "\n",
        "Ingenuity on the surface of Mars (source: NASA)\n",
        "\n",
        "When programming Ingenuity, one of the things that NASA engineers need to account for is the fact that due to the weaker gravity on Mars, an Earthling's weight on Mars is 37.8% of their weight on Earth. Write a Python program that prompts an Earthling to enter their weight on Earth and prints their calculated weight on Mars.\n",
        "\n",
        "The output should be rounded to two decimal places when necessary. Python has a round function which can help you with this. You pass in the value to be rounded and the number of decimal places to use. In the example below, the number 3.1415926 is rounded to 2 decimal places which is 3.14."
      ],
      "metadata": {
        "id": "baqy_JCebKoc"
      }
    },
    {
      "cell_type": "code",
      "execution_count": null,
      "metadata": {
        "colab": {
          "base_uri": "https://localhost:8080/"
        },
        "id": "9nxQEAlHaZ07",
        "outputId": "b67220c1-c36f-4799-dadf-498040607f93"
      },
      "outputs": [
        {
          "output_type": "stream",
          "name": "stdout",
          "text": [
            "Enter your Earth Weight: 82\n",
            "Your Mars Weight is 31.0 kg.\n"
          ]
        }
      ],
      "source": [
        "def mars_weight():\n",
        "  user_input : float = int(input(\"Enter your Earth Weight: \"))\n",
        "  calculate_weight : float = user_input * 0.378\n",
        "  rounded_weight : float = round(calculate_weight, 2)\n",
        "  print(f\"Your Mars Weight is {rounded_weight} kg.\")\n",
        "\n",
        "mars_weight()"
      ]
    },
    {
      "cell_type": "markdown",
      "source": [
        "# Milestone #2: Adding in All Planets\n",
        "Mars is not the only planet in our solar system with its own unique gravity. In fact, each planet has a different gravitational constant, which affects how much an object would weigh on that planet. Below is a list of the constants for each planet compared to Earth's gravity:\n",
        "\n",
        "Mercury: 37.6%\n",
        "\n",
        "Venus: 88.9%\n",
        "\n",
        "Mars: 37.8%\n",
        "\n",
        "Jupiter: 236.0%\n",
        "\n",
        "Saturn: 108.1%\n",
        "\n",
        "Uranus: 81.5%\n",
        "\n",
        "Neptune: 114.0%\n",
        "\n",
        "Write a Python program that prompts an Earthling to enter their weight on Earth and then to enter the name of a planet in our solar system. The program should print the equivalent weight on that planet rounded to 2 decimal places if necessary.\n",
        "\n",
        "You can assume that the user will always type in a planet with the first letter capitalized and you do not need to worry about the case where they type in something other than one of the above planets."
      ],
      "metadata": {
        "id": "pOG9Vctlf8ab"
      }
    },
    {
      "cell_type": "code",
      "source": [
        "planets = {\n",
        "    \"Mercury\": 37.6,\n",
        "    \"Venus\": 88.9,\n",
        "    \"Mars\": 37.8,\n",
        "    \"Jupiter\": 236.0,\n",
        "    \"Saturn\": 108.1,\n",
        "    \"Uranus\": 81.5,\n",
        "    \"Neptune\": 114.0,\n",
        "}\n",
        "\n",
        "def planet_weight():\n",
        "  weight_of_earth = int(input(\"Enter your weight on Earth: \"))\n",
        "  planet_name = str(input(\"Enter a planet name you are interested to visit: \"))\n",
        "\n",
        "  if planet_name in planets:\n",
        "    calculate_weight = weight_of_earth * planets[planet_name] / 100\n",
        "    rounded_weight = round(calculate_weight, 2)\n",
        "    print(f\"Your weight on {planet_name} is {rounded_weight} kg.\")\n",
        "  else:\n",
        "    print(\"Invalid planet name.\")\n",
        "\n",
        "\n",
        "planet_weight()\n"
      ],
      "metadata": {
        "id": "WOHraxRef9AC",
        "colab": {
          "base_uri": "https://localhost:8080/"
        },
        "outputId": "b54ee720-e044-48b5-9795-ac011f1d2ae4"
      },
      "execution_count": 9,
      "outputs": [
        {
          "output_type": "stream",
          "name": "stdout",
          "text": [
            "Enter your weight on Earth: 82\n",
            "Enter a planet name you are interested to visit: Mars\n",
            "Your weight on Mars is 31.0 kg.\n"
          ]
        }
      ]
    }
  ]
}
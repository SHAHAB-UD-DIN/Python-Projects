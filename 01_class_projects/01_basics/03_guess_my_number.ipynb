{
  "nbformat": 4,
  "nbformat_minor": 0,
  "metadata": {
    "colab": {
      "provenance": [],
      "authorship_tag": "ABX9TyPkQqbUdO3j9XP4IoRx2lVn",
      "include_colab_link": true
    },
    "kernelspec": {
      "name": "python3",
      "display_name": "Python 3"
    },
    "language_info": {
      "name": "python"
    }
  },
  "cells": [
    {
      "cell_type": "markdown",
      "metadata": {
        "id": "view-in-github",
        "colab_type": "text"
      },
      "source": [
        "<a href=\"https://colab.research.google.com/github/SHAHAB-UD-DIN/Python-Projects/blob/main/01_class_projects/01_basics/03_guess_my_number.ipynb\" target=\"_parent\"><img src=\"https://colab.research.google.com/assets/colab-badge.svg\" alt=\"Open In Colab\"/></a>"
      ]
    },
    {
      "cell_type": "markdown",
      "source": [
        "## Problem Statement\n",
        "Guess My Number\n",
        "\n",
        "I am thinking of a number between 0 and 99... Enter a guess: 50 Your guess is too high\n",
        "\n",
        "Enter a new number: 25 Your guess is too low\n",
        "\n",
        "Enter a new number: 40 Your guess is too low\n",
        "\n",
        "Enter a new number: 45 Your guess is too low\n",
        "\n",
        "Enter a new number: 48 Congrats! The number was: 48"
      ],
      "metadata": {
        "id": "q6kO09OKaNaO"
      }
    },
    {
      "cell_type": "code",
      "execution_count": 20,
      "metadata": {
        "colab": {
          "base_uri": "https://localhost:8080/"
        },
        "id": "9cDhlGLEZ0rV",
        "outputId": "e43d7423-9d3f-4cb3-be5b-3dbf5ca29ba9"
      },
      "outputs": [
        {
          "output_type": "stream",
          "name": "stdout",
          "text": [
            "Guess a number between 0 and 99: 50\n",
            "Your guess is too low\n",
            "Guess a number between 0 and 99: 85\n",
            "Your guess is too high\n",
            "Guess a number between 0 and 99: 72\n",
            "Your guess is too high\n",
            "Guess a number between 0 and 99: 60\n",
            "Your guess is too low\n",
            "Guess a number between 0 and 99: 66\n",
            "Your guess is too high\n",
            "Guess a number between 0 and 99: 64\n",
            "Congrats! The number was: 64\n"
          ]
        }
      ],
      "source": [
        "import random\n",
        "\n",
        "original_number = random.randint(0, 99)\n",
        "\n",
        "while True:\n",
        "  guess = int(input(\"Guess a number between 0 and 99: \"))\n",
        "\n",
        "  if guess == original_number:\n",
        "    print(f\"Congrats! The number was: {original_number}\")\n",
        "    break\n",
        "  elif guess > original_number:\n",
        "    print(\"Your guess is too high\")\n",
        "  else:\n",
        "    print(\"Your guess is too low\")\n"
      ]
    }
  ]
}
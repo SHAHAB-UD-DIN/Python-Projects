{
  "nbformat": 4,
  "nbformat_minor": 0,
  "metadata": {
    "colab": {
      "provenance": [],
      "authorship_tag": "ABX9TyNRy58Gi1RNTxq9PZ92Vkk7",
      "include_colab_link": true
    },
    "kernelspec": {
      "name": "python3",
      "display_name": "Python 3"
    },
    "language_info": {
      "name": "python"
    }
  },
  "cells": [
    {
      "cell_type": "markdown",
      "metadata": {
        "id": "view-in-github",
        "colab_type": "text"
      },
      "source": [
        "<a href=\"https://colab.research.google.com/github/SHAHAB-UD-DIN/Python-Projects/blob/main/00_simple_projects/01_adds_two_numbers.ipynb\" target=\"_parent\"><img src=\"https://colab.research.google.com/assets/colab-badge.svg\" alt=\"Open In Colab\"/></a>"
      ]
    },
    {
      "cell_type": "markdown",
      "source": [
        "# Problem Statement\n",
        "Write a Python program that takes two integer inputs from the user and calculates their sum. The program should perform the following tasks:\n",
        "\n",
        "1. Prompt the user to enter the first number.\n",
        "\n",
        "2. Read the input and convert it to an integer.\n",
        "\n",
        "3. Prompt the user to enter the second number.\n",
        "\n",
        "4. Read the input and convert it to an integer.\n",
        "\n",
        "5. Calculate the sum of the two numbers.\n",
        "\n",
        "6. Print the total sum with an appropriate message.\n",
        "\n",
        "The provided solution demonstrates a working implementation of this problem, where the main() function guides the user through the process of entering two numbers and displays their sum."
      ],
      "metadata": {
        "id": "_EiXbfpR3ToS"
      }
    },
    {
      "cell_type": "code",
      "execution_count": 5,
      "metadata": {
        "colab": {
          "base_uri": "https://localhost:8080/"
        },
        "id": "Pn70Vx0-uhBR",
        "outputId": "eec00de7-3671-4c47-c072-9ae976fa17a7"
      },
      "outputs": [
        {
          "output_type": "stream",
          "name": "stdout",
          "text": [
            "This program adds two numbers\n",
            "Enter first number: 12\n",
            "Enter second number: 22\n",
            "The total is 34.\n"
          ]
        }
      ],
      "source": [
        "def main():\n",
        "  print(\"This program adds two numbers.\")\n",
        "  num1 : str = input(\"Enter first number: \")\n",
        "  num1 : int = int(num1)\n",
        "  num2 : str = input(\"Enter second number: \")\n",
        "  num2 : int = int(num2)\n",
        "  total : int = num1 + num2\n",
        "  print(f\"The total is {total}.\")\n",
        "\n",
        "if __name__ == '__main__':\n",
        "  main()\n"
      ]
    }
  ]
}
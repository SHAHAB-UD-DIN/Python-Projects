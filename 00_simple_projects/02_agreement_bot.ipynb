{
  "nbformat": 4,
  "nbformat_minor": 0,
  "metadata": {
    "colab": {
      "provenance": [],
      "authorship_tag": "ABX9TyOQSgUHRwnT0mAjh08RSlDp",
      "include_colab_link": true
    },
    "kernelspec": {
      "name": "python3",
      "display_name": "Python 3"
    },
    "language_info": {
      "name": "python"
    }
  },
  "cells": [
    {
      "cell_type": "markdown",
      "metadata": {
        "id": "view-in-github",
        "colab_type": "text"
      },
      "source": [
        "<a href=\"https://colab.research.google.com/github/SHAHAB-UD-DIN/Python-Projects/blob/main/00_simple_projects/02_agreement_bot.ipynb\" target=\"_parent\"><img src=\"https://colab.research.google.com/assets/colab-badge.svg\" alt=\"Open In Colab\"/></a>"
      ]
    },
    {
      "cell_type": "markdown",
      "source": [
        "# Problem Statement\n",
        "Write a program which asks the user what their favorite animal is, and then always responds with \"My favorite animal is also ___!\" (the blank should be filled in with the user-inputted animal, of course).\n",
        "\n",
        "Here's a sample run of the program (user input is in bold italics - note the space between the prompt and the user input!):\n",
        "\n",
        "What's your favorite animal? cow\n",
        "\n",
        "My favorite animal is also cow!"
      ],
      "metadata": {
        "id": "8VboHk2p-gad"
      }
    },
    {
      "cell_type": "code",
      "execution_count": 4,
      "metadata": {
        "colab": {
          "base_uri": "https://localhost:8080/"
        },
        "id": "igUYuIgK7ZXW",
        "outputId": "ce3f2f9a-a335-45f6-971e-9e5ae6a956de"
      },
      "outputs": [
        {
          "output_type": "stream",
          "name": "stdout",
          "text": [
            "This program asks: what is your favourite animal?\n",
            "What's your favourite animal? Lion\n",
            "My favourite animal is Lion.\n"
          ]
        }
      ],
      "source": [
        "def main():\n",
        "  print(\"This program asks: what is your favourite animal?\")\n",
        "  animal = input(\"What's your favourite animal? \")\n",
        "  print(f\"My favourite animal is {animal}.\")\n",
        "\n",
        "if __name__ == \"__main__\":\n",
        "  main()"
      ]
    }
  ]
}
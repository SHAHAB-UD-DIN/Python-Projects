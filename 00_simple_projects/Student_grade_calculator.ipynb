{
  "nbformat": 4,
  "nbformat_minor": 0,
  "metadata": {
    "colab": {
      "provenance": [],
      "authorship_tag": "ABX9TyNIa70p7pKEK35gS1k45+Z1",
      "include_colab_link": true
    },
    "kernelspec": {
      "name": "python3",
      "display_name": "Python 3"
    },
    "language_info": {
      "name": "python"
    }
  },
  "cells": [
    {
      "cell_type": "markdown",
      "metadata": {
        "id": "view-in-github",
        "colab_type": "text"
      },
      "source": [
        "<a href=\"https://colab.research.google.com/github/SHAHAB-UD-DIN/Python-Projects/blob/main/00_simple_projects/Student_grade_calculator.ipynb\" target=\"_parent\"><img src=\"https://colab.research.google.com/assets/colab-badge.svg\" alt=\"Open In Colab\"/></a>"
      ]
    },
    {
      "cell_type": "code",
      "execution_count": 27,
      "metadata": {
        "colab": {
          "base_uri": "https://localhost:8080/"
        },
        "id": "kD8g21QYzaWE",
        "outputId": "93f74242-fcb5-4357-8b40-db99cf7f8588"
      },
      "outputs": [
        {
          "output_type": "stream",
          "name": "stdout",
          "text": [
            "Enter your obtain marks:200\n",
            "You are Failed and your percentage is 18.18\n"
          ]
        }
      ],
      "source": [
        "total_marks = 1100\n",
        "obtain_marks =int(input(\"Enter your obtain marks:\"))\n",
        "if obtain_marks >= 1000:\n",
        "  percentage = obtain_marks/total_marks*100\n",
        "  rounded = round(percentage, 1)\n",
        "  print(f\"You are Passed with A+ grade and your percentage is {rounded}\")\n",
        "elif obtain_marks >= 900:\n",
        "  percentage = obtain_marks/total_marks*100\n",
        "  rounded = round(percentage, 1)\n",
        "  print(f\"You are Passed with A grade and your percentage is {rounded}\")\n",
        "elif obtain_marks >= 800:\n",
        "  percentage = obtain_marks/total_marks*100\n",
        "  rounded = round(percentage, 1)\n",
        "  print(f\"You are Passed with B grade and your percentage is {rounded}\")\n",
        "elif obtain_marks >= 700:\n",
        "  percentage = obtain_marks/total_marks*100\n",
        "  rounded = round(percentage, 1)\n",
        "  print(f\"You are Passed with C grade and your percentage is {rounded}\")\n",
        "elif obtain_marks >= 600:\n",
        "  percentage = obtain_marks/total_marks*100\n",
        "  rounded = round(percentage, 1)\n",
        "  print(f\"You are Passed with D grade and your percentage is {rounded}\")\n",
        "else:\n",
        "  percentage = obtain_marks/total_marks*100\n",
        "  rounded = round(percentage, 2)\n",
        "  print(f\"You are Failed and your percentage is {rounded}\")"
      ]
    }
  ]
}